{
 "cells": [
  {
   "cell_type": "code",
   "execution_count": 292,
   "id": "78aa4948-29e6-4fc7-b3be-977961a1741b",
   "metadata": {},
   "outputs": [],
   "source": [
    "# importing libraries\n",
    "import numpy as np\n",
    "import pandas as pd\n",
    "import seaborn as sns\n",
    "import matplotlib.pyplot as plt"
   ]
  },
  {
   "cell_type": "code",
   "execution_count": 294,
   "id": "c65dbedb-d422-4083-a492-8e77151ac875",
   "metadata": {},
   "outputs": [],
   "source": [
    "# load data files into dataframe / Importing datasets\n",
    "transaction_df = pd.read_csv('C:/Users/purva/Documents/Fetch_data_analysis_excercise/data/TRANSACTION.csv')\n",
    "users_df = pd.read_csv('C:/Users/purva/Documents/Fetch_data_analysis_excercise/data/USER.csv')\n",
    "product_df = pd.read_csv('C:/Users/purva/Documents/Fetch_data_analysis_excercise/data/PRODUCTS.csv')"
   ]
  },
  {
   "cell_type": "markdown",
   "id": "1adaf032-0c42-4a88-a7e7-fbd5cf6f9e96",
   "metadata": {},
   "source": [
    "## Exploratory Data Analysis"
   ]
  },
  {
   "cell_type": "code",
   "execution_count": 297,
   "id": "fd1fb7e6-ff22-415c-aac1-373b40a59070",
   "metadata": {},
   "outputs": [
    {
     "name": "stdout",
     "output_type": "stream",
     "text": [
      "Transaction dataframe dimension: (50000, 8)\n",
      "Users dataframe dimension: (100000, 6)\n",
      "Product dataframe dimension: (845552, 7)\n"
     ]
    }
   ],
   "source": [
    "# checking the dimensions of the dataset\n",
    "print(\"Transaction dataframe dimension:\",transaction_df.shape)\n",
    "print(\"Users dataframe dimension:\",users_df.shape)\n",
    "print(\"Product dataframe dimension:\",product_df.shape)"
   ]
  },
  {
   "cell_type": "code",
   "execution_count": 299,
   "id": "11161a3a-19f2-4d74-bde8-065a89b3c64f",
   "metadata": {},
   "outputs": [
    {
     "data": {
      "text/html": [
       "<div>\n",
       "<style scoped>\n",
       "    .dataframe tbody tr th:only-of-type {\n",
       "        vertical-align: middle;\n",
       "    }\n",
       "\n",
       "    .dataframe tbody tr th {\n",
       "        vertical-align: top;\n",
       "    }\n",
       "\n",
       "    .dataframe thead th {\n",
       "        text-align: right;\n",
       "    }\n",
       "</style>\n",
       "<table border=\"1\" class=\"dataframe\">\n",
       "  <thead>\n",
       "    <tr style=\"text-align: right;\">\n",
       "      <th></th>\n",
       "      <th>RECEIPT_ID</th>\n",
       "      <th>PURCHASE_DATE</th>\n",
       "      <th>SCAN_DATE</th>\n",
       "      <th>STORE_NAME</th>\n",
       "      <th>USER_ID</th>\n",
       "      <th>BARCODE</th>\n",
       "      <th>FINAL_QUANTITY</th>\n",
       "      <th>FINAL_SALE</th>\n",
       "    </tr>\n",
       "  </thead>\n",
       "  <tbody>\n",
       "    <tr>\n",
       "      <th>0</th>\n",
       "      <td>0000d256-4041-4a3e-adc4-5623fb6e0c99</td>\n",
       "      <td>2024-08-21</td>\n",
       "      <td>2024-08-21 14:19:06.539 Z</td>\n",
       "      <td>WALMART</td>\n",
       "      <td>63b73a7f3d310dceeabd4758</td>\n",
       "      <td>1.530001e+10</td>\n",
       "      <td>1.00</td>\n",
       "      <td></td>\n",
       "    </tr>\n",
       "    <tr>\n",
       "      <th>1</th>\n",
       "      <td>0001455d-7a92-4a7b-a1d2-c747af1c8fd3</td>\n",
       "      <td>2024-07-20</td>\n",
       "      <td>2024-07-20 09:50:24.206 Z</td>\n",
       "      <td>ALDI</td>\n",
       "      <td>62c08877baa38d1a1f6c211a</td>\n",
       "      <td>NaN</td>\n",
       "      <td>zero</td>\n",
       "      <td>1.49</td>\n",
       "    </tr>\n",
       "    <tr>\n",
       "      <th>2</th>\n",
       "      <td>00017e0a-7851-42fb-bfab-0baa96e23586</td>\n",
       "      <td>2024-08-18</td>\n",
       "      <td>2024-08-19 15:38:56.813 Z</td>\n",
       "      <td>WALMART</td>\n",
       "      <td>60842f207ac8b7729e472020</td>\n",
       "      <td>7.874223e+10</td>\n",
       "      <td>1.00</td>\n",
       "      <td></td>\n",
       "    </tr>\n",
       "    <tr>\n",
       "      <th>3</th>\n",
       "      <td>000239aa-3478-453d-801e-66a82e39c8af</td>\n",
       "      <td>2024-06-18</td>\n",
       "      <td>2024-06-19 11:03:37.468 Z</td>\n",
       "      <td>FOOD LION</td>\n",
       "      <td>63fcd7cea4f8442c3386b589</td>\n",
       "      <td>7.833997e+11</td>\n",
       "      <td>zero</td>\n",
       "      <td>3.49</td>\n",
       "    </tr>\n",
       "    <tr>\n",
       "      <th>4</th>\n",
       "      <td>00026b4c-dfe8-49dd-b026-4c2f0fd5c6a1</td>\n",
       "      <td>2024-07-04</td>\n",
       "      <td>2024-07-05 15:56:43.549 Z</td>\n",
       "      <td>RANDALLS</td>\n",
       "      <td>6193231ae9b3d75037b0f928</td>\n",
       "      <td>4.790050e+10</td>\n",
       "      <td>1.00</td>\n",
       "      <td></td>\n",
       "    </tr>\n",
       "  </tbody>\n",
       "</table>\n",
       "</div>"
      ],
      "text/plain": [
       "                             RECEIPT_ID PURCHASE_DATE  \\\n",
       "0  0000d256-4041-4a3e-adc4-5623fb6e0c99    2024-08-21   \n",
       "1  0001455d-7a92-4a7b-a1d2-c747af1c8fd3    2024-07-20   \n",
       "2  00017e0a-7851-42fb-bfab-0baa96e23586    2024-08-18   \n",
       "3  000239aa-3478-453d-801e-66a82e39c8af    2024-06-18   \n",
       "4  00026b4c-dfe8-49dd-b026-4c2f0fd5c6a1    2024-07-04   \n",
       "\n",
       "                   SCAN_DATE STORE_NAME                   USER_ID  \\\n",
       "0  2024-08-21 14:19:06.539 Z    WALMART  63b73a7f3d310dceeabd4758   \n",
       "1  2024-07-20 09:50:24.206 Z       ALDI  62c08877baa38d1a1f6c211a   \n",
       "2  2024-08-19 15:38:56.813 Z    WALMART  60842f207ac8b7729e472020   \n",
       "3  2024-06-19 11:03:37.468 Z  FOOD LION  63fcd7cea4f8442c3386b589   \n",
       "4  2024-07-05 15:56:43.549 Z   RANDALLS  6193231ae9b3d75037b0f928   \n",
       "\n",
       "        BARCODE FINAL_QUANTITY FINAL_SALE  \n",
       "0  1.530001e+10           1.00             \n",
       "1           NaN           zero       1.49  \n",
       "2  7.874223e+10           1.00             \n",
       "3  7.833997e+11           zero       3.49  \n",
       "4  4.790050e+10           1.00             "
      ]
     },
     "execution_count": 299,
     "metadata": {},
     "output_type": "execute_result"
    }
   ],
   "source": [
    "# display the first few rows of the dataframe\n",
    "transaction_df.head()"
   ]
  },
  {
   "cell_type": "code",
   "execution_count": 301,
   "id": "8317db77-ce47-48f1-8ae8-712dcd01c942",
   "metadata": {},
   "outputs": [
    {
     "data": {
      "text/html": [
       "<div>\n",
       "<style scoped>\n",
       "    .dataframe tbody tr th:only-of-type {\n",
       "        vertical-align: middle;\n",
       "    }\n",
       "\n",
       "    .dataframe tbody tr th {\n",
       "        vertical-align: top;\n",
       "    }\n",
       "\n",
       "    .dataframe thead th {\n",
       "        text-align: right;\n",
       "    }\n",
       "</style>\n",
       "<table border=\"1\" class=\"dataframe\">\n",
       "  <thead>\n",
       "    <tr style=\"text-align: right;\">\n",
       "      <th></th>\n",
       "      <th>ID</th>\n",
       "      <th>CREATED_DATE</th>\n",
       "      <th>BIRTH_DATE</th>\n",
       "      <th>STATE</th>\n",
       "      <th>LANGUAGE</th>\n",
       "      <th>GENDER</th>\n",
       "    </tr>\n",
       "  </thead>\n",
       "  <tbody>\n",
       "    <tr>\n",
       "      <th>0</th>\n",
       "      <td>5ef3b4f17053ab141787697d</td>\n",
       "      <td>2020-06-24 20:17:54.000 Z</td>\n",
       "      <td>2000-08-11 00:00:00.000 Z</td>\n",
       "      <td>CA</td>\n",
       "      <td>es-419</td>\n",
       "      <td>female</td>\n",
       "    </tr>\n",
       "    <tr>\n",
       "      <th>1</th>\n",
       "      <td>5ff220d383fcfc12622b96bc</td>\n",
       "      <td>2021-01-03 19:53:55.000 Z</td>\n",
       "      <td>2001-09-24 04:00:00.000 Z</td>\n",
       "      <td>PA</td>\n",
       "      <td>en</td>\n",
       "      <td>female</td>\n",
       "    </tr>\n",
       "    <tr>\n",
       "      <th>2</th>\n",
       "      <td>6477950aa55bb77a0e27ee10</td>\n",
       "      <td>2023-05-31 18:42:18.000 Z</td>\n",
       "      <td>1994-10-28 00:00:00.000 Z</td>\n",
       "      <td>FL</td>\n",
       "      <td>es-419</td>\n",
       "      <td>female</td>\n",
       "    </tr>\n",
       "    <tr>\n",
       "      <th>3</th>\n",
       "      <td>658a306e99b40f103b63ccf8</td>\n",
       "      <td>2023-12-26 01:46:22.000 Z</td>\n",
       "      <td>NaN</td>\n",
       "      <td>NC</td>\n",
       "      <td>en</td>\n",
       "      <td>NaN</td>\n",
       "    </tr>\n",
       "    <tr>\n",
       "      <th>4</th>\n",
       "      <td>653cf5d6a225ea102b7ecdc2</td>\n",
       "      <td>2023-10-28 11:51:50.000 Z</td>\n",
       "      <td>1972-03-19 00:00:00.000 Z</td>\n",
       "      <td>PA</td>\n",
       "      <td>en</td>\n",
       "      <td>female</td>\n",
       "    </tr>\n",
       "  </tbody>\n",
       "</table>\n",
       "</div>"
      ],
      "text/plain": [
       "                         ID               CREATED_DATE  \\\n",
       "0  5ef3b4f17053ab141787697d  2020-06-24 20:17:54.000 Z   \n",
       "1  5ff220d383fcfc12622b96bc  2021-01-03 19:53:55.000 Z   \n",
       "2  6477950aa55bb77a0e27ee10  2023-05-31 18:42:18.000 Z   \n",
       "3  658a306e99b40f103b63ccf8  2023-12-26 01:46:22.000 Z   \n",
       "4  653cf5d6a225ea102b7ecdc2  2023-10-28 11:51:50.000 Z   \n",
       "\n",
       "                  BIRTH_DATE STATE LANGUAGE  GENDER  \n",
       "0  2000-08-11 00:00:00.000 Z    CA   es-419  female  \n",
       "1  2001-09-24 04:00:00.000 Z    PA       en  female  \n",
       "2  1994-10-28 00:00:00.000 Z    FL   es-419  female  \n",
       "3                        NaN    NC       en     NaN  \n",
       "4  1972-03-19 00:00:00.000 Z    PA       en  female  "
      ]
     },
     "execution_count": 301,
     "metadata": {},
     "output_type": "execute_result"
    }
   ],
   "source": [
    "users_df.head()"
   ]
  },
  {
   "cell_type": "code",
   "execution_count": 303,
   "id": "70119bdb-3ce6-4677-b2e9-05f7cc3ccdba",
   "metadata": {},
   "outputs": [
    {
     "data": {
      "text/html": [
       "<div>\n",
       "<style scoped>\n",
       "    .dataframe tbody tr th:only-of-type {\n",
       "        vertical-align: middle;\n",
       "    }\n",
       "\n",
       "    .dataframe tbody tr th {\n",
       "        vertical-align: top;\n",
       "    }\n",
       "\n",
       "    .dataframe thead th {\n",
       "        text-align: right;\n",
       "    }\n",
       "</style>\n",
       "<table border=\"1\" class=\"dataframe\">\n",
       "  <thead>\n",
       "    <tr style=\"text-align: right;\">\n",
       "      <th></th>\n",
       "      <th>CATEGORY_1</th>\n",
       "      <th>CATEGORY_2</th>\n",
       "      <th>CATEGORY_3</th>\n",
       "      <th>CATEGORY_4</th>\n",
       "      <th>MANUFACTURER</th>\n",
       "      <th>BRAND</th>\n",
       "      <th>BARCODE</th>\n",
       "    </tr>\n",
       "  </thead>\n",
       "  <tbody>\n",
       "    <tr>\n",
       "      <th>0</th>\n",
       "      <td>Health &amp; Wellness</td>\n",
       "      <td>Sexual Health</td>\n",
       "      <td>Conductivity Gels &amp; Lotions</td>\n",
       "      <td>NaN</td>\n",
       "      <td>NaN</td>\n",
       "      <td>NaN</td>\n",
       "      <td>7.964944e+11</td>\n",
       "    </tr>\n",
       "    <tr>\n",
       "      <th>1</th>\n",
       "      <td>Snacks</td>\n",
       "      <td>Puffed Snacks</td>\n",
       "      <td>Cheese Curls &amp; Puffs</td>\n",
       "      <td>NaN</td>\n",
       "      <td>NaN</td>\n",
       "      <td>NaN</td>\n",
       "      <td>2.327801e+10</td>\n",
       "    </tr>\n",
       "    <tr>\n",
       "      <th>2</th>\n",
       "      <td>Health &amp; Wellness</td>\n",
       "      <td>Hair Care</td>\n",
       "      <td>Hair Care Accessories</td>\n",
       "      <td>NaN</td>\n",
       "      <td>PLACEHOLDER MANUFACTURER</td>\n",
       "      <td>ELECSOP</td>\n",
       "      <td>4.618178e+11</td>\n",
       "    </tr>\n",
       "    <tr>\n",
       "      <th>3</th>\n",
       "      <td>Health &amp; Wellness</td>\n",
       "      <td>Oral Care</td>\n",
       "      <td>Toothpaste</td>\n",
       "      <td>NaN</td>\n",
       "      <td>COLGATE-PALMOLIVE</td>\n",
       "      <td>COLGATE</td>\n",
       "      <td>3.500047e+10</td>\n",
       "    </tr>\n",
       "    <tr>\n",
       "      <th>4</th>\n",
       "      <td>Health &amp; Wellness</td>\n",
       "      <td>Medicines &amp; Treatments</td>\n",
       "      <td>Essential Oils</td>\n",
       "      <td>NaN</td>\n",
       "      <td>MAPLE HOLISTICS AND HONEYDEW PRODUCTS INTERCHA...</td>\n",
       "      <td>MAPLE HOLISTICS</td>\n",
       "      <td>8.068109e+11</td>\n",
       "    </tr>\n",
       "  </tbody>\n",
       "</table>\n",
       "</div>"
      ],
      "text/plain": [
       "          CATEGORY_1              CATEGORY_2                   CATEGORY_3  \\\n",
       "0  Health & Wellness           Sexual Health  Conductivity Gels & Lotions   \n",
       "1             Snacks           Puffed Snacks         Cheese Curls & Puffs   \n",
       "2  Health & Wellness               Hair Care        Hair Care Accessories   \n",
       "3  Health & Wellness               Oral Care                   Toothpaste   \n",
       "4  Health & Wellness  Medicines & Treatments               Essential Oils   \n",
       "\n",
       "  CATEGORY_4                                       MANUFACTURER  \\\n",
       "0        NaN                                                NaN   \n",
       "1        NaN                                                NaN   \n",
       "2        NaN                           PLACEHOLDER MANUFACTURER   \n",
       "3        NaN                                  COLGATE-PALMOLIVE   \n",
       "4        NaN  MAPLE HOLISTICS AND HONEYDEW PRODUCTS INTERCHA...   \n",
       "\n",
       "             BRAND       BARCODE  \n",
       "0              NaN  7.964944e+11  \n",
       "1              NaN  2.327801e+10  \n",
       "2          ELECSOP  4.618178e+11  \n",
       "3          COLGATE  3.500047e+10  \n",
       "4  MAPLE HOLISTICS  8.068109e+11  "
      ]
     },
     "execution_count": 303,
     "metadata": {},
     "output_type": "execute_result"
    }
   ],
   "source": [
    "product_df.head()"
   ]
  },
  {
   "cell_type": "markdown",
   "id": "b34fb7e6-ee08-4c56-b02a-81120f93bb40",
   "metadata": {},
   "source": [
    "## Analyzing the data quality issues within the dataset"
   ]
  },
  {
   "cell_type": "markdown",
   "id": "9cdf86ac-d365-483b-8229-cc78ebdc042d",
   "metadata": {},
   "source": [
    "### 1. Data format issue\n",
    "By extracting the information for dataframes we will be able to understand the index, column names, data types, non-null values and memory usage. After extracting the information it is noticed the data type format is inconsistent for all tables it is classifying most of the columns as object data type."
   ]
  },
  {
   "cell_type": "code",
   "execution_count": 307,
   "id": "d07e4207-9656-4573-a07a-32c1bea22694",
   "metadata": {},
   "outputs": [
    {
     "name": "stdout",
     "output_type": "stream",
     "text": [
      "<class 'pandas.core.frame.DataFrame'>\n",
      "RangeIndex: 50000 entries, 0 to 49999\n",
      "Data columns (total 8 columns):\n",
      " #   Column          Non-Null Count  Dtype  \n",
      "---  ------          --------------  -----  \n",
      " 0   RECEIPT_ID      50000 non-null  object \n",
      " 1   PURCHASE_DATE   50000 non-null  object \n",
      " 2   SCAN_DATE       50000 non-null  object \n",
      " 3   STORE_NAME      50000 non-null  object \n",
      " 4   USER_ID         50000 non-null  object \n",
      " 5   BARCODE         44238 non-null  float64\n",
      " 6   FINAL_QUANTITY  50000 non-null  object \n",
      " 7   FINAL_SALE      50000 non-null  object \n",
      "dtypes: float64(1), object(7)\n",
      "memory usage: 3.1+ MB\n"
     ]
    }
   ],
   "source": [
    "# get information on the dataframe including datatypes and missing value\n",
    "transaction_df.info()"
   ]
  },
  {
   "cell_type": "code",
   "execution_count": 309,
   "id": "d4ba6e05-86b8-40fe-9667-d15090c687bb",
   "metadata": {},
   "outputs": [
    {
     "name": "stdout",
     "output_type": "stream",
     "text": [
      "<class 'pandas.core.frame.DataFrame'>\n",
      "RangeIndex: 100000 entries, 0 to 99999\n",
      "Data columns (total 6 columns):\n",
      " #   Column        Non-Null Count   Dtype \n",
      "---  ------        --------------   ----- \n",
      " 0   ID            100000 non-null  object\n",
      " 1   CREATED_DATE  100000 non-null  object\n",
      " 2   BIRTH_DATE    96325 non-null   object\n",
      " 3   STATE         95188 non-null   object\n",
      " 4   LANGUAGE      69492 non-null   object\n",
      " 5   GENDER        94108 non-null   object\n",
      "dtypes: object(6)\n",
      "memory usage: 4.6+ MB\n"
     ]
    }
   ],
   "source": [
    "users_df.info()"
   ]
  },
  {
   "cell_type": "code",
   "execution_count": 311,
   "id": "fb0b29b2-e793-4a03-bbe4-8854ae41ca6b",
   "metadata": {},
   "outputs": [
    {
     "name": "stdout",
     "output_type": "stream",
     "text": [
      "<class 'pandas.core.frame.DataFrame'>\n",
      "RangeIndex: 845552 entries, 0 to 845551\n",
      "Data columns (total 7 columns):\n",
      " #   Column        Non-Null Count   Dtype  \n",
      "---  ------        --------------   -----  \n",
      " 0   CATEGORY_1    845441 non-null  object \n",
      " 1   CATEGORY_2    844128 non-null  object \n",
      " 2   CATEGORY_3    784986 non-null  object \n",
      " 3   CATEGORY_4    67459 non-null   object \n",
      " 4   MANUFACTURER  619078 non-null  object \n",
      " 5   BRAND         619080 non-null  object \n",
      " 6   BARCODE       841527 non-null  float64\n",
      "dtypes: float64(1), object(6)\n",
      "memory usage: 45.2+ MB\n"
     ]
    }
   ],
   "source": [
    "product_df.info()"
   ]
  },
  {
   "cell_type": "markdown",
   "id": "1c90c94f-faa9-4a61-b306-4fe5b63a859d",
   "metadata": {},
   "source": [
    "### 2. Missing value in tables\n",
    "It is important to deal with the missing values within the table as they can significantly impact our analysis if not handled"
   ]
  },
  {
   "cell_type": "code",
   "execution_count": 314,
   "id": "fc15aa7e-257a-4d9b-a035-5163554adf4f",
   "metadata": {},
   "outputs": [
    {
     "data": {
      "text/plain": [
       "RECEIPT_ID           0\n",
       "PURCHASE_DATE        0\n",
       "SCAN_DATE            0\n",
       "STORE_NAME           0\n",
       "USER_ID              0\n",
       "BARCODE           5762\n",
       "FINAL_QUANTITY       0\n",
       "FINAL_SALE           0\n",
       "dtype: int64"
      ]
     },
     "execution_count": 314,
     "metadata": {},
     "output_type": "execute_result"
    }
   ],
   "source": [
    "# display the sum of null / missing values for each column in dataframe\n",
    "transaction_df.isnull().sum()"
   ]
  },
  {
   "cell_type": "code",
   "execution_count": 316,
   "id": "ba975a7f-e1dd-4f84-9da3-211591408383",
   "metadata": {},
   "outputs": [
    {
     "data": {
      "text/plain": [
       "ID                  0\n",
       "CREATED_DATE        0\n",
       "BIRTH_DATE       3675\n",
       "STATE            4812\n",
       "LANGUAGE        30508\n",
       "GENDER           5892\n",
       "dtype: int64"
      ]
     },
     "execution_count": 316,
     "metadata": {},
     "output_type": "execute_result"
    }
   ],
   "source": [
    "users_df.isnull().sum()"
   ]
  },
  {
   "cell_type": "code",
   "execution_count": 318,
   "id": "e4f3f213-6d8d-4bf6-9433-0992cf38b5f5",
   "metadata": {
    "scrolled": true
   },
   "outputs": [
    {
     "data": {
      "text/plain": [
       "CATEGORY_1         111\n",
       "CATEGORY_2        1424\n",
       "CATEGORY_3       60566\n",
       "CATEGORY_4      778093\n",
       "MANUFACTURER    226474\n",
       "BRAND           226472\n",
       "BARCODE           4025\n",
       "dtype: int64"
      ]
     },
     "execution_count": 318,
     "metadata": {},
     "output_type": "execute_result"
    }
   ],
   "source": [
    "product_df.isnull().sum()"
   ]
  },
  {
   "cell_type": "markdown",
   "id": "3f190c96-74ed-46a4-99ad-033c4fd6e999",
   "metadata": {},
   "source": [
    "### 3. Data inconsistency issue"
   ]
  },
  {
   "cell_type": "markdown",
   "id": "3cb71187-8b77-41bd-8af9-2123a9b1e56d",
   "metadata": {},
   "source": [
    "#### a) FINAL_SALE column has leading spaces for missing rows which is leading to inconsistency, there are around 12500 rows with leading spaces"
   ]
  },
  {
   "cell_type": "code",
   "execution_count": 322,
   "id": "e7aa1f76-705a-4859-a46f-2822c711bfa4",
   "metadata": {},
   "outputs": [
    {
     "name": "stdout",
     "output_type": "stream",
     "text": [
      "Indexes of rows with spaces: 12500\n"
     ]
    }
   ],
   "source": [
    "# identify total number leading and trailing spaces\n",
    "rows_with_spaces = transaction_df[transaction_df['FINAL_SALE'].str.strip() == '']\n",
    "print(\"Indexes of rows with spaces:\", len(rows_with_spaces.index.tolist()))"
   ]
  },
  {
   "cell_type": "markdown",
   "id": "a2a41d63-3d05-45ee-8621-1922ce7feb4b",
   "metadata": {},
   "source": [
    "#### b) There are strings present in FINAL_QUANTITY column which has float values, the string is generating inconsistency"
   ]
  },
  {
   "cell_type": "code",
   "execution_count": 325,
   "id": "f30af89e-e549-4bf6-9fa9-b56a1aab1c90",
   "metadata": {},
   "outputs": [
    {
     "name": "stdout",
     "output_type": "stream",
     "text": [
      "['zero']\n"
     ]
    }
   ],
   "source": [
    "# Identify non-numeric values in the FINAL_QUANTITY column\n",
    "unique_non_numeric_values = transaction_df[~transaction_df['FINAL_QUANTITY'].apply(lambda x: str(x).replace('.', '', 1).isdigit())]['FINAL_QUANTITY'].unique()\n",
    "# Display rows with non-numeric values\n",
    "print(unique_non_numeric_values)"
   ]
  },
  {
   "cell_type": "markdown",
   "id": "2039f67f-c8b9-4e39-880c-c5862953bfb5",
   "metadata": {},
   "source": [
    "#### c) The GENDER column has inconsistent data, below we can see the there are duplicate genders present due to format issues"
   ]
  },
  {
   "cell_type": "code",
   "execution_count": 328,
   "id": "81be3c25-12f8-440c-9a59-9b8decbad2b3",
   "metadata": {},
   "outputs": [
    {
     "data": {
      "text/plain": [
       "array(['female', nan, 'male', 'non_binary', 'transgender',\n",
       "       'prefer_not_to_say', 'not_listed', 'Non-Binary', 'unknown',\n",
       "       'not_specified', \"My gender isn't listed\", 'Prefer not to say'],\n",
       "      dtype=object)"
      ]
     },
     "execution_count": 328,
     "metadata": {},
     "output_type": "execute_result"
    }
   ],
   "source": [
    "# identify unique values in gender column\n",
    "unique_genders = users_df['GENDER'].unique()\n",
    "unique_genders"
   ]
  },
  {
   "cell_type": "markdown",
   "id": "6c63e9a0-bee0-4804-a322-ddfaea0b98fc",
   "metadata": {},
   "source": [
    "### 4. Duplicate rows in dataset"
   ]
  },
  {
   "cell_type": "code",
   "execution_count": 331,
   "id": "84ae0617-34e7-4fb3-994b-a682cbe65c73",
   "metadata": {},
   "outputs": [
    {
     "name": "stdout",
     "output_type": "stream",
     "text": [
      "215\n",
      "171\n",
      "0\n"
     ]
    }
   ],
   "source": [
    "# identifying total number of duplicate rows in each dataframe\n",
    "product_duplicates = product_df.duplicated().sum()\n",
    "transactions_duplicates = transaction_df.duplicated().sum()\n",
    "users_duplicates = users_df.duplicated().sum()\n",
    "print(product_duplicates)\n",
    "print(transactions_duplicates)\n",
    "print(users_duplicates)"
   ]
  },
  {
   "cell_type": "markdown",
   "id": "24246a4b-6ec0-45e1-95ed-ed6713cc6541",
   "metadata": {},
   "source": [
    "### 5. Primary key and Foreign keys in dataset"
   ]
  },
  {
   "cell_type": "markdown",
   "id": "8b71d22c-d619-49dd-b85b-786a36bf2c6d",
   "metadata": {},
   "source": [
    "#### a) In Users table, ID column is assumed to be primary key as below we can see there no duplicates present for this column"
   ]
  },
  {
   "cell_type": "code",
   "execution_count": 335,
   "id": "e59f319b-dc83-41f2-84ec-e063892d85f7",
   "metadata": {},
   "outputs": [
    {
     "name": "stdout",
     "output_type": "stream",
     "text": [
      "Number of Duplicate ID: 0\n"
     ]
    }
   ],
   "source": [
    "# dentifying total number of duplicate user ids\n",
    "ID_duplicate_rows = users_df[users_df['ID'].duplicated(keep=False)]['ID'].unique()\n",
    "num_duplicate_id = len(ID_duplicate_rows)\n",
    "print(\"Number of Duplicate ID:\", num_duplicate_id)"
   ]
  },
  {
   "cell_type": "markdown",
   "id": "84447175-ee89-4b6d-bb48-44d1b0ac8a8e",
   "metadata": {},
   "source": [
    "#### b) In Transaction table receipt_ID was supposed to be the primary key, but as below we can see there are duplicates present for that column. Other than receipt_ID there are no columns present that can identify each transaction made uniquely and to be classified as primary key "
   ]
  },
  {
   "cell_type": "code",
   "execution_count": 338,
   "id": "77acebd0-f1fa-4959-8271-7e877277ee78",
   "metadata": {},
   "outputs": [
    {
     "name": "stdout",
     "output_type": "stream",
     "text": [
      "Number of Duplicate RECEIPT_ID: 24440\n"
     ]
    }
   ],
   "source": [
    "# identifying total number of duplicate receipt ids\n",
    "receipt_ID_duplicate_rows = transaction_df[transaction_df['RECEIPT_ID'].duplicated(keep=False)]['RECEIPT_ID'].unique()\n",
    "num_duplicate_receipt = len(receipt_ID_duplicate_rows)\n",
    "print(\"Number of Duplicate RECEIPT_ID:\", num_duplicate_receipt)"
   ]
  },
  {
   "cell_type": "markdown",
   "id": "e3b9257f-7093-4a8d-8f86-6ed7b66b858a",
   "metadata": {},
   "source": [
    "#### c) Assuming for Product table the combination of category 1 + category 2 + category 3 is primary key, as no other column can classified as a immediate primary key. But after combining those columns it was noticed that even the combination as duplicates, so product table should contain a column where each product is identifed uniquely and primary can be classified"
   ]
  },
  {
   "cell_type": "code",
   "execution_count": 369,
   "id": "c591c762-30af-4a64-83e2-bfd25d485512",
   "metadata": {},
   "outputs": [
    {
     "name": "stdout",
     "output_type": "stream",
     "text": [
      "Duplicate combinations found:\n",
      "845496\n"
     ]
    }
   ],
   "source": [
    "# Create a new column combining the categories\n",
    "product_df['Category_combined'] = product_df['CATEGORY_1'] + '_' + product_df['CATEGORY_2'] + '_' + product_df['CATEGORY_3']\n",
    "\n",
    "# Find duplicate combinations\n",
    "duplicate_rows = product_df[product_df['Category_combined'].duplicated(keep=False)]\n",
    "# Print duplicate combinations\n",
    "print(\"Duplicate combinations found:\")\n",
    "print(len(duplicate_rows))"
   ]
  },
  {
   "cell_type": "code",
   "execution_count": 375,
   "id": "a04742ab-2df0-47f3-9d88-e837d4451fe5",
   "metadata": {},
   "outputs": [],
   "source": [
    "product_df = product_df.drop('Category_combined', axis=1)"
   ]
  },
  {
   "cell_type": "markdown",
   "id": "ade49aa2-00f8-4a1e-ba3a-86fbdfd1322c",
   "metadata": {},
   "source": [
    "#### d) Foreign key analysis: The user table and transaction table has one to many relationship, the USER_ID in User table should have all entries that the ID of user in transaction table has. It was found that not all users present in Transaction table exist in User table"
   ]
  },
  {
   "cell_type": "code",
   "execution_count": 343,
   "id": "3b1ee528-8aa0-464b-855a-c6cbe359400d",
   "metadata": {},
   "outputs": [
    {
     "data": {
      "text/plain": [
       "49738"
      ]
     },
     "execution_count": 343,
     "metadata": {},
     "output_type": "execute_result"
    }
   ],
   "source": [
    "unmatched_user_ids_count = transaction_df[~transaction_df['USER_ID'].isin(users_df['ID'])].shape[0]\n",
    "unmatched_user_ids_count"
   ]
  },
  {
   "cell_type": "markdown",
   "id": "a04ad350-52a9-42f9-b59b-d3cef0d233dd",
   "metadata": {},
   "source": [
    "#### e) The product table and transaction table has one to many relationship, the Barcode in Product table should have all entries that the Barcode in Transaction table has. It was found that not all barcodes in transactions table exist in the product table"
   ]
  },
  {
   "cell_type": "code",
   "execution_count": 346,
   "id": "9392e1ea-c4f6-4a6b-8965-2a2e3b5f9b4c",
   "metadata": {},
   "outputs": [
    {
     "data": {
      "text/plain": [
       "19408"
      ]
     },
     "execution_count": 346,
     "metadata": {},
     "output_type": "execute_result"
    }
   ],
   "source": [
    "unmatched_barcodes = transaction_df[~transaction_df['BARCODE'].isin(product_df['BARCODE'])].shape[0]\n",
    "unmatched_barcodes"
   ]
  },
  {
   "cell_type": "markdown",
   "id": "18c1472c-5030-4e82-8311-c73950a5873e",
   "metadata": {},
   "source": [
    "## Handling Data quality issues"
   ]
  },
  {
   "cell_type": "markdown",
   "id": "57cacaf4-0bed-4ab0-a552-e7c64f5167b2",
   "metadata": {},
   "source": [
    "### 1. Handling missing data"
   ]
  },
  {
   "cell_type": "code",
   "execution_count": 221,
   "id": "b39d20eb-761d-413d-82d3-9c61e9a61c47",
   "metadata": {},
   "outputs": [],
   "source": [
    "# Replace null values with \"Unknown\" for users and product table\n",
    "users_df['GENDER'] = users_df['GENDER'].fillna(\"unknown\") \n",
    "users_df['STATE'] = users_df['STATE'].fillna(\"unknown\") \n",
    "users_df['LANGUAGE'] = users_df['LANGUAGE'].fillna(\"unknown\") \n",
    "\n",
    "#products table\n",
    "product_df['CATEGORY_1'] = product_df['CATEGORY_1'].fillna(\"unknown\") \n",
    "product_df['CATEGORY_2'] = product_df['CATEGORY_2'].fillna(\"unknown\") \n",
    "product_df['CATEGORY_3'] = product_df['CATEGORY_3'].fillna(\"unknown\") \n",
    "product_df['MANUFACTURER'] = product_df['MANUFACTURER'].fillna(\"unknown\") \n",
    "product_df['BRAND'] = product_df['BRAND'].fillna(\"unknown\") "
   ]
  },
  {
   "cell_type": "markdown",
   "id": "c30a0017-591e-4545-837f-88dbbb0c1b93",
   "metadata": {},
   "source": [
    "### 2. Handling duplicates"
   ]
  },
  {
   "cell_type": "code",
   "execution_count": 224,
   "id": "6e3325c6-6e9c-4f60-8596-a00eeb109cc4",
   "metadata": {},
   "outputs": [],
   "source": [
    "# dropping duplicates for product and transaction table\n",
    "product_df = product_df.drop_duplicates() \n",
    "transaction_df = transaction_df.drop_duplicates() "
   ]
  },
  {
   "cell_type": "markdown",
   "id": "ea770321-4e7e-4a39-9df3-94ed08ee8f14",
   "metadata": {},
   "source": [
    "### 3. Handling data inconsistency"
   ]
  },
  {
   "cell_type": "code",
   "execution_count": 227,
   "id": "866a371a-4f16-4693-9de0-ecda48cc70b3",
   "metadata": {},
   "outputs": [
    {
     "data": {
      "text/html": [
       "<div>\n",
       "<style scoped>\n",
       "    .dataframe tbody tr th:only-of-type {\n",
       "        vertical-align: middle;\n",
       "    }\n",
       "\n",
       "    .dataframe tbody tr th {\n",
       "        vertical-align: top;\n",
       "    }\n",
       "\n",
       "    .dataframe thead th {\n",
       "        text-align: right;\n",
       "    }\n",
       "</style>\n",
       "<table border=\"1\" class=\"dataframe\">\n",
       "  <thead>\n",
       "    <tr style=\"text-align: right;\">\n",
       "      <th></th>\n",
       "      <th>RECEIPT_ID</th>\n",
       "      <th>PURCHASE_DATE</th>\n",
       "      <th>SCAN_DATE</th>\n",
       "      <th>STORE_NAME</th>\n",
       "      <th>USER_ID</th>\n",
       "      <th>BARCODE</th>\n",
       "      <th>FINAL_QUANTITY</th>\n",
       "      <th>FINAL_SALE</th>\n",
       "    </tr>\n",
       "  </thead>\n",
       "  <tbody>\n",
       "    <tr>\n",
       "      <th>0</th>\n",
       "      <td>0000d256-4041-4a3e-adc4-5623fb6e0c99</td>\n",
       "      <td>2024-08-21</td>\n",
       "      <td>2024-08-21 14:19:06.539 Z</td>\n",
       "      <td>WALMART</td>\n",
       "      <td>63b73a7f3d310dceeabd4758</td>\n",
       "      <td>1.530001e+10</td>\n",
       "      <td>1.00</td>\n",
       "      <td></td>\n",
       "    </tr>\n",
       "    <tr>\n",
       "      <th>1</th>\n",
       "      <td>0001455d-7a92-4a7b-a1d2-c747af1c8fd3</td>\n",
       "      <td>2024-07-20</td>\n",
       "      <td>2024-07-20 09:50:24.206 Z</td>\n",
       "      <td>ALDI</td>\n",
       "      <td>62c08877baa38d1a1f6c211a</td>\n",
       "      <td>NaN</td>\n",
       "      <td>zero</td>\n",
       "      <td>1.49</td>\n",
       "    </tr>\n",
       "    <tr>\n",
       "      <th>2</th>\n",
       "      <td>00017e0a-7851-42fb-bfab-0baa96e23586</td>\n",
       "      <td>2024-08-18</td>\n",
       "      <td>2024-08-19 15:38:56.813 Z</td>\n",
       "      <td>WALMART</td>\n",
       "      <td>60842f207ac8b7729e472020</td>\n",
       "      <td>7.874223e+10</td>\n",
       "      <td>1.00</td>\n",
       "      <td></td>\n",
       "    </tr>\n",
       "    <tr>\n",
       "      <th>3</th>\n",
       "      <td>000239aa-3478-453d-801e-66a82e39c8af</td>\n",
       "      <td>2024-06-18</td>\n",
       "      <td>2024-06-19 11:03:37.468 Z</td>\n",
       "      <td>FOOD LION</td>\n",
       "      <td>63fcd7cea4f8442c3386b589</td>\n",
       "      <td>7.833997e+11</td>\n",
       "      <td>zero</td>\n",
       "      <td>3.49</td>\n",
       "    </tr>\n",
       "    <tr>\n",
       "      <th>4</th>\n",
       "      <td>00026b4c-dfe8-49dd-b026-4c2f0fd5c6a1</td>\n",
       "      <td>2024-07-04</td>\n",
       "      <td>2024-07-05 15:56:43.549 Z</td>\n",
       "      <td>RANDALLS</td>\n",
       "      <td>6193231ae9b3d75037b0f928</td>\n",
       "      <td>4.790050e+10</td>\n",
       "      <td>1.00</td>\n",
       "      <td></td>\n",
       "    </tr>\n",
       "    <tr>\n",
       "      <th>...</th>\n",
       "      <td>...</td>\n",
       "      <td>...</td>\n",
       "      <td>...</td>\n",
       "      <td>...</td>\n",
       "      <td>...</td>\n",
       "      <td>...</td>\n",
       "      <td>...</td>\n",
       "      <td>...</td>\n",
       "    </tr>\n",
       "    <tr>\n",
       "      <th>49995</th>\n",
       "      <td>b5cd61a9-8033-4913-a5c4-fb3f65e3a321</td>\n",
       "      <td>2024-08-21</td>\n",
       "      <td>2024-08-31 14:13:08.634 Z</td>\n",
       "      <td>TARGET</td>\n",
       "      <td>6154bcf098f885648de2f299</td>\n",
       "      <td>8.523911e+10</td>\n",
       "      <td>2.00</td>\n",
       "      <td>1.18</td>\n",
       "    </tr>\n",
       "    <tr>\n",
       "      <th>49996</th>\n",
       "      <td>e1b2f634-c9ad-4152-b662-4b22efc25862</td>\n",
       "      <td>2024-08-11</td>\n",
       "      <td>2024-08-11 18:15:56.736 Z</td>\n",
       "      <td>STOP &amp; SHOP</td>\n",
       "      <td>60aa809f188b926b2244c974</td>\n",
       "      <td>4.610040e+10</td>\n",
       "      <td>1.00</td>\n",
       "      <td>2.00</td>\n",
       "    </tr>\n",
       "    <tr>\n",
       "      <th>49997</th>\n",
       "      <td>b07ef8dd-e444-40a2-819b-f74a3e5f1ae7</td>\n",
       "      <td>2024-07-11</td>\n",
       "      <td>2024-07-11 08:03:25.816 Z</td>\n",
       "      <td>WALMART</td>\n",
       "      <td>60bd26e83dc3b13a15c5f4e7</td>\n",
       "      <td>6.466300e+11</td>\n",
       "      <td>1.00</td>\n",
       "      <td>20.96</td>\n",
       "    </tr>\n",
       "    <tr>\n",
       "      <th>49998</th>\n",
       "      <td>42475141-bef4-4df2-aa37-72577e2512bb</td>\n",
       "      <td>2024-06-18</td>\n",
       "      <td>2024-06-18 19:57:32.211 Z</td>\n",
       "      <td>MARKET BASKET</td>\n",
       "      <td>6169912fac47744405af62b7</td>\n",
       "      <td>4.180050e+10</td>\n",
       "      <td>1.00</td>\n",
       "      <td>3.00</td>\n",
       "    </tr>\n",
       "    <tr>\n",
       "      <th>49999</th>\n",
       "      <td>3a179c4e-46f2-4126-b3d2-3514afc23a3e</td>\n",
       "      <td>2024-08-07</td>\n",
       "      <td>2024-08-07 15:30:07.911 Z</td>\n",
       "      <td>WALMART</td>\n",
       "      <td>64e94d64ca929250373ef6e1</td>\n",
       "      <td>3.076607e+11</td>\n",
       "      <td>1.00</td>\n",
       "      <td>5.48</td>\n",
       "    </tr>\n",
       "  </tbody>\n",
       "</table>\n",
       "<p>49829 rows × 8 columns</p>\n",
       "</div>"
      ],
      "text/plain": [
       "                                 RECEIPT_ID PURCHASE_DATE  \\\n",
       "0      0000d256-4041-4a3e-adc4-5623fb6e0c99    2024-08-21   \n",
       "1      0001455d-7a92-4a7b-a1d2-c747af1c8fd3    2024-07-20   \n",
       "2      00017e0a-7851-42fb-bfab-0baa96e23586    2024-08-18   \n",
       "3      000239aa-3478-453d-801e-66a82e39c8af    2024-06-18   \n",
       "4      00026b4c-dfe8-49dd-b026-4c2f0fd5c6a1    2024-07-04   \n",
       "...                                     ...           ...   \n",
       "49995  b5cd61a9-8033-4913-a5c4-fb3f65e3a321    2024-08-21   \n",
       "49996  e1b2f634-c9ad-4152-b662-4b22efc25862    2024-08-11   \n",
       "49997  b07ef8dd-e444-40a2-819b-f74a3e5f1ae7    2024-07-11   \n",
       "49998  42475141-bef4-4df2-aa37-72577e2512bb    2024-06-18   \n",
       "49999  3a179c4e-46f2-4126-b3d2-3514afc23a3e    2024-08-07   \n",
       "\n",
       "                       SCAN_DATE     STORE_NAME                   USER_ID  \\\n",
       "0      2024-08-21 14:19:06.539 Z        WALMART  63b73a7f3d310dceeabd4758   \n",
       "1      2024-07-20 09:50:24.206 Z           ALDI  62c08877baa38d1a1f6c211a   \n",
       "2      2024-08-19 15:38:56.813 Z        WALMART  60842f207ac8b7729e472020   \n",
       "3      2024-06-19 11:03:37.468 Z      FOOD LION  63fcd7cea4f8442c3386b589   \n",
       "4      2024-07-05 15:56:43.549 Z       RANDALLS  6193231ae9b3d75037b0f928   \n",
       "...                          ...            ...                       ...   \n",
       "49995  2024-08-31 14:13:08.634 Z         TARGET  6154bcf098f885648de2f299   \n",
       "49996  2024-08-11 18:15:56.736 Z    STOP & SHOP  60aa809f188b926b2244c974   \n",
       "49997  2024-07-11 08:03:25.816 Z        WALMART  60bd26e83dc3b13a15c5f4e7   \n",
       "49998  2024-06-18 19:57:32.211 Z  MARKET BASKET  6169912fac47744405af62b7   \n",
       "49999  2024-08-07 15:30:07.911 Z        WALMART  64e94d64ca929250373ef6e1   \n",
       "\n",
       "            BARCODE FINAL_QUANTITY FINAL_SALE  \n",
       "0      1.530001e+10           1.00             \n",
       "1               NaN           zero       1.49  \n",
       "2      7.874223e+10           1.00             \n",
       "3      7.833997e+11           zero       3.49  \n",
       "4      4.790050e+10           1.00             \n",
       "...             ...            ...        ...  \n",
       "49995  8.523911e+10           2.00       1.18  \n",
       "49996  4.610040e+10           1.00       2.00  \n",
       "49997  6.466300e+11           1.00      20.96  \n",
       "49998  4.180050e+10           1.00       3.00  \n",
       "49999  3.076607e+11           1.00       5.48  \n",
       "\n",
       "[49829 rows x 8 columns]"
      ]
     },
     "execution_count": 227,
     "metadata": {},
     "output_type": "execute_result"
    }
   ],
   "source": [
    "# Remove leading and trailing spaces\n",
    "transaction_df['FINAL_SALE'] = transaction_df['FINAL_SALE'].str.strip()\n",
    "transaction_df"
   ]
  },
  {
   "cell_type": "code",
   "execution_count": 229,
   "id": "2459c80d-c5ab-412b-87f3-2c55962ec0e0",
   "metadata": {},
   "outputs": [
    {
     "data": {
      "text/plain": [
       "array(['female', 'unknown', 'male', 'non binary', 'transgender',\n",
       "       'prefer not to say', 'not listed', 'not specified',\n",
       "       \"my gender isn't listed\"], dtype=object)"
      ]
     },
     "execution_count": 229,
     "metadata": {},
     "output_type": "execute_result"
    }
   ],
   "source": [
    "# transform all gender values to lowercase to avoid duplicates\n",
    "users_df['GENDER'] = users_df['GENDER'].str.lower().str.strip()\n",
    "# replace '-' or '_' with space to deal with duplicate values\n",
    "users_df['GENDER'] = users_df['GENDER'].str.replace('_', ' ')\n",
    "users_df['GENDER'] = users_df['GENDER'].str.replace('-', ' ')\n",
    "# display unique genders to check if the duplicate are removed\n",
    "unique_genders_no_duplicates = users_df['GENDER'].unique()\n",
    "unique_genders_no_duplicates"
   ]
  },
  {
   "cell_type": "code",
   "execution_count": 231,
   "id": "893a554f-cf14-4e2f-8039-d15af317d075",
   "metadata": {},
   "outputs": [
    {
     "data": {
      "text/plain": [
       "array(['1.00', '0', '2.00', '3.00', '4.00', '4.55', '2.83', '2.34',\n",
       "       '0.46', '7.00', '18.00', '12.00', '5.00', '2.17', '0.23', '8.00',\n",
       "       '1.35', '0.09', '2.58', '1.47', '16.00', '0.62', '1.24', '1.40',\n",
       "       '0.51', '0.53', '1.69', '6.00', '2.39', '2.60', '10.00', '0.86',\n",
       "       '1.54', '1.88', '2.93', '1.28', '0.65', '2.89', '1.44', '2.75',\n",
       "       '1.81', '276.00', '0.87', '2.10', '3.33', '2.54', '2.20', '1.93',\n",
       "       '1.34', '1.13', '2.19', '0.83', '2.61', '0.28', '1.50', '0.97',\n",
       "       '0.24', '1.18', '6.22', '1.22', '1.23', '2.57', '1.07', '2.11',\n",
       "       '0.48', '9.00', '3.11', '1.08', '5.53', '1.89', '0.01', '2.18',\n",
       "       '1.99', '0.04', '2.25', '1.37', '3.02', '0.35', '0.99', '1.80',\n",
       "       '3.24', '0.94', '2.04', '3.69', '0.70', '2.52', '2.27'],\n",
       "      dtype=object)"
      ]
     },
     "execution_count": 231,
     "metadata": {},
     "output_type": "execute_result"
    }
   ],
   "source": [
    "# replace \"zero\" string with 0 value \n",
    "transaction_df['FINAL_QUANTITY'] = transaction_df['FINAL_QUANTITY'].str.replace('zero', '0')\n",
    "# display unique quantity to check if the zero string is removed\n",
    "unique_quantity = transaction_df['FINAL_QUANTITY'].unique()\n",
    "unique_quantity"
   ]
  },
  {
   "cell_type": "code",
   "execution_count": 233,
   "id": "8ac7e35b-c491-425c-b9b1-f73558ef550d",
   "metadata": {},
   "outputs": [],
   "source": [
    "# replace null value for final sale column with 0\n",
    "transaction_df['FINAL_SALE'] = transaction_df['FINAL_SALE'].fillna(0) "
   ]
  },
  {
   "cell_type": "code",
   "execution_count": 235,
   "id": "c2e991db-2261-458d-bfe4-4db2f89a777d",
   "metadata": {},
   "outputs": [],
   "source": [
    "# replace null value for barcode in transaction and product table with 0\n",
    "transaction_df['BARCODE'] = transaction_df['BARCODE'].fillna(0) \n",
    "product_df['BARCODE'] = product_df['BARCODE'].fillna(0) "
   ]
  },
  {
   "cell_type": "markdown",
   "id": "16db6cea-6c0c-438b-821e-f4498dfd2824",
   "metadata": {},
   "source": [
    "### 4. Handling Data format issue"
   ]
  },
  {
   "cell_type": "code",
   "execution_count": 250,
   "id": "4ad40c17-131d-4a53-8082-d6229a33c262",
   "metadata": {},
   "outputs": [],
   "source": [
    "# converting the transaction table columns to appropriate data type \n",
    "transaction_df['RECEIPT_ID'] = transaction_df['RECEIPT_ID'].astype(pd.StringDtype())\n",
    "transaction_df['PURCHASE_DATE'] = pd.to_datetime(transaction_df['PURCHASE_DATE']) \n",
    "transaction_df['SCAN_DATE'] = pd.to_datetime(transaction_df['SCAN_DATE']) \n",
    "transaction_df['STORE_NAME'] = transaction_df['STORE_NAME'].astype(pd.StringDtype())\n",
    "transaction_df['USER_ID'] = transaction_df['USER_ID'].astype(pd.StringDtype())\n",
    "transaction_df['BARCODE'] = transaction_df['BARCODE'].astype('int64')\n",
    "transaction_df['FINAL_QUANTITY'] = pd.to_numeric(transaction_df['FINAL_QUANTITY'])\n",
    "transaction_df['FINAL_SALE'] = pd.to_numeric(transaction_df['FINAL_SALE'])\n",
    "\n",
    "# converting the user table columns to appropriate data type \n",
    "users_df['ID'] = users_df['ID'].astype(pd.StringDtype())\n",
    "users_df['CREATED_DATE'] = pd.to_datetime(users_df['CREATED_DATE']) \n",
    "users_df['BIRTH_DATE'] = pd.to_datetime(users_df['BIRTH_DATE']) \n",
    "users_df['STATE'] = users_df['STATE'].astype(pd.StringDtype())\n",
    "users_df['LANGUAGE'] = users_df['LANGUAGE'].astype(pd.StringDtype())\n",
    "users_df['GENDER'] = users_df['GENDER'].astype(pd.StringDtype())\n",
    "\n",
    "# converting the product table columns to appropriate data type \n",
    "product_df['CATEGORY_1'] = product_df['CATEGORY_1'].astype(pd.StringDtype())\n",
    "product_df['CATEGORY_2'] = product_df['CATEGORY_2'].astype(pd.StringDtype())\n",
    "product_df['CATEGORY_3'] = product_df['CATEGORY_3'].astype(pd.StringDtype())\n",
    "product_df['CATEGORY_4'] = product_df['CATEGORY_4'].astype(pd.StringDtype())\n",
    "product_df['MANUFACTURER'] = product_df['MANUFACTURER'].astype(pd.StringDtype())\n",
    "product_df['BRAND'] = product_df['BRAND'].astype(pd.StringDtype())\n",
    "product_df['BARCODE'] = product_df['BARCODE'].astype('int64')\n"
   ]
  },
  {
   "cell_type": "code",
   "execution_count": 252,
   "id": "efb9fa21-6e08-4507-9e69-5c0ecc378684",
   "metadata": {},
   "outputs": [
    {
     "name": "stdout",
     "output_type": "stream",
     "text": [
      "<class 'pandas.core.frame.DataFrame'>\n",
      "Index: 49829 entries, 0 to 49999\n",
      "Data columns (total 8 columns):\n",
      " #   Column          Non-Null Count  Dtype              \n",
      "---  ------          --------------  -----              \n",
      " 0   RECEIPT_ID      49829 non-null  string             \n",
      " 1   PURCHASE_DATE   49829 non-null  datetime64[ns]     \n",
      " 2   SCAN_DATE       49829 non-null  datetime64[ns, UTC]\n",
      " 3   STORE_NAME      49829 non-null  string             \n",
      " 4   USER_ID         49829 non-null  string             \n",
      " 5   BARCODE         49829 non-null  int64              \n",
      " 6   FINAL_QUANTITY  49829 non-null  float64            \n",
      " 7   FINAL_SALE      37343 non-null  float64            \n",
      "dtypes: datetime64[ns, UTC](1), datetime64[ns](1), float64(2), int64(1), string(3)\n",
      "memory usage: 3.4 MB\n"
     ]
    }
   ],
   "source": [
    "# display info to check the conversion is done properly for all columns\n",
    "transaction_df.info()"
   ]
  },
  {
   "cell_type": "code",
   "execution_count": 254,
   "id": "badbac55-6c26-4e02-abba-659c0a34041f",
   "metadata": {},
   "outputs": [
    {
     "name": "stdout",
     "output_type": "stream",
     "text": [
      "<class 'pandas.core.frame.DataFrame'>\n",
      "RangeIndex: 100000 entries, 0 to 99999\n",
      "Data columns (total 6 columns):\n",
      " #   Column        Non-Null Count   Dtype              \n",
      "---  ------        --------------   -----              \n",
      " 0   ID            100000 non-null  string             \n",
      " 1   CREATED_DATE  100000 non-null  datetime64[ns, UTC]\n",
      " 2   BIRTH_DATE    96325 non-null   datetime64[ns, UTC]\n",
      " 3   STATE         100000 non-null  string             \n",
      " 4   LANGUAGE      100000 non-null  string             \n",
      " 5   GENDER        100000 non-null  string             \n",
      "dtypes: datetime64[ns, UTC](2), string(4)\n",
      "memory usage: 4.6 MB\n"
     ]
    }
   ],
   "source": [
    "users_df.info()"
   ]
  },
  {
   "cell_type": "code",
   "execution_count": 256,
   "id": "2991bdc2-e6f6-43a3-89ac-2965034dab67",
   "metadata": {},
   "outputs": [
    {
     "name": "stdout",
     "output_type": "stream",
     "text": [
      "<class 'pandas.core.frame.DataFrame'>\n",
      "Index: 845337 entries, 0 to 845551\n",
      "Data columns (total 7 columns):\n",
      " #   Column        Non-Null Count   Dtype \n",
      "---  ------        --------------   ----- \n",
      " 0   CATEGORY_1    845337 non-null  string\n",
      " 1   CATEGORY_2    845337 non-null  string\n",
      " 2   CATEGORY_3    845337 non-null  string\n",
      " 3   CATEGORY_4    67453 non-null   string\n",
      " 4   MANUFACTURER  845337 non-null  string\n",
      " 5   BRAND         845337 non-null  string\n",
      " 6   BARCODE       845337 non-null  int64 \n",
      "dtypes: int64(1), string(6)\n",
      "memory usage: 51.6 MB\n"
     ]
    }
   ],
   "source": [
    "product_df.info()"
   ]
  },
  {
   "cell_type": "markdown",
   "id": "5c89c468-6e85-4fd1-b0ef-559f5ef5284f",
   "metadata": {},
   "source": [
    "## Data visulalization"
   ]
  },
  {
   "cell_type": "markdown",
   "id": "23ac27a9-04b9-4df3-8d59-3ac48a977b11",
   "metadata": {},
   "source": [
    "### Univariate analysis is performed to identify patterns within the dataset"
   ]
  },
  {
   "cell_type": "markdown",
   "id": "34218548-196e-462a-8719-68705dd4116e",
   "metadata": {},
   "source": [
    "#### Below we can see the gender distribution, where it was found female are the top users. State wise the top ranking users are from Texas, Florida, California states. Most language spoke by this users is English."
   ]
  },
  {
   "cell_type": "code",
   "execution_count": 172,
   "id": "ff847e2c-0920-464d-8505-3cea3ab1def4",
   "metadata": {},
   "outputs": [],
   "source": [
    "# Univariate Analysis: Users Table\n",
    "\n",
    "def plot_users_table(data):\n",
    "    # GENDER Distribution\n",
    "    plt.figure(figsize=(12, 6))\n",
    "    sns.countplot(data=data, x='GENDER')\n",
    "    plt.title('GENDER Distribution')\n",
    "    plt.show()\n",
    "\n",
    "    # STATE Distribution\n",
    "    plt.figure(figsize=(12, 6))\n",
    "    sns.countplot(data=data, y='STATE', order=data['STATE'].value_counts().index)\n",
    "    plt.title('STATE Distribution')\n",
    "    plt.show()\n",
    "\n",
    "    # LANGUAGE Distribution\n",
    "    plt.figure(figsize=(12, 6))\n",
    "    sns.countplot(data=data, x='LANGUAGE')\n",
    "    plt.title('LANGUAGE Distribution')\n",
    "    plt.show()"
   ]
  },
  {
   "cell_type": "code",
   "execution_count": 174,
   "id": "d0f2d040-5520-43a1-a911-7cc8f7dfc9aa",
   "metadata": {},
   "outputs": [
    {
     "data": {
      "image/png": "[encoded data removed]",
      "text/plain": [
       "<Figure size 1200x600 with 1 Axes>"
      ]
     },
     "metadata": {},
     "output_type": "display_data"
    },
    {
     "data": {
      "image/png": "[encoded data removed]",
      "text/plain": [
       "<Figure size 1200x600 with 1 Axes>"
      ]
     },
     "metadata": {},
     "output_type": "display_data"
    },
    {
     "data": {
      "image/png": "[encoded data removed]",
      "text/plain": [
       "<Figure size 1200x600 with 1 Axes>"
      ]
     },
     "metadata": {},
     "output_type": "display_data"
    }
   ],
   "source": [
    "plot_users_table(users_df)"
   ]
  },
  {
   "cell_type": "markdown",
   "id": "4be90dd1-e3b3-44da-81b8-d8fcc5a67fe9",
   "metadata": {},
   "source": [
    "#### We can take note that top 5 stores where the receipts are scanned at high rates or transactions are performed at high volume is from Walmart, Dollar General Store, ALDI, Target, Kroger."
   ]
  },
  {
   "cell_type": "code",
   "execution_count": 175,
   "id": "ab86b79e-085e-40ac-914e-c23c2b2f102b",
   "metadata": {},
   "outputs": [
    {
     "data": {
      "image/png": "[encoded data removed]",
      "text/plain": [
       "<Figure size 1200x600 with 1 Axes>"
      ]
     },
     "metadata": {},
     "output_type": "display_data"
    }
   ],
   "source": [
    "# Univariate Analysis: Transaction Table\n",
    "\n",
    "# Get the top 10 stores\n",
    "top_10_stores = transaction_df['STORE_NAME'].value_counts().nlargest(10).index.tolist()\n",
    "\n",
    "# Create the countplot\n",
    "plt.figure(figsize=(12, 6))\n",
    "sns.countplot(data=transaction_df, y='STORE_NAME', order=top_10_stores)\n",
    "plt.title('Top 10 Stores Distribution')\n",
    "plt.show()\n"
   ]
  },
  {
   "cell_type": "markdown",
   "id": "a1651cc6-3161-41af-91f8-5d2886f485cf",
   "metadata": {},
   "source": [
    "#### The top 3 product for category 1 belong to Health & Wellness, Snacks and Beverages. For category 2 the top 3 product belong to Candy, Haircare and Medicines & Treatments. Lastly top brands are REM BRAND, PRIVATE LABEL AND CVS. Brand not known is not classified properly into its appropriate brand so we cannot consider this category as top. "
   ]
  },
  {
   "cell_type": "code",
   "execution_count": 178,
   "id": "bbdfa144-63f0-4edc-9d8a-831fbc47fbe6",
   "metadata": {},
   "outputs": [
    {
     "data": {
      "image/png": "[encoded data removed]",
      "text/plain": [
       "<Figure size 1200x600 with 1 Axes>"
      ]
     },
     "metadata": {},
     "output_type": "display_data"
    },
    {
     "data": {
      "image/png": "[encoded data removed]",
      "text/plain": [
       "<Figure size 1200x600 with 1 Axes>"
      ]
     },
     "metadata": {},
     "output_type": "display_data"
    },
    {
     "data": {
      "image/png": "[encoded data removed]",
      "text/plain": [
       "<Figure size 1200x600 with 1 Axes>"
      ]
     },
     "metadata": {},
     "output_type": "display_data"
    }
   ],
   "source": [
    "# Univariate Analysis: Product Table\n",
    "\n",
    "# Get the top 3 category 1\n",
    "top_3_category_1 = product_df['CATEGORY_1'].value_counts().nlargest(3).index.tolist()\n",
    "# Get the top 5 category 2\n",
    "top_5_category_2 = product_df['CATEGORY_2'].value_counts().nlargest(5).index.tolist()\n",
    "# Get the top 5 brands\n",
    "top_5_brands = product_df['BRAND'].value_counts().nlargest(5).index.tolist()\n",
    "\n",
    "\n",
    "def plot_product_table(data):\n",
    "    # Category 1 Distribution\n",
    "    plt.figure(figsize=(12, 6))\n",
    "    sns.countplot(data=product_df, x='CATEGORY_1', order=top_3_category_1)\n",
    "    plt.title('Top 3 Category 1 Distribution')\n",
    "    plt.show()\n",
    "\n",
    "    # Category 2 Distribution\n",
    "    plt.figure(figsize=(12, 6))\n",
    "    sns.countplot(data=product_df, y='CATEGORY_2', order=top_5_category_2)\n",
    "    plt.title('Top 5 Category 2 Distribution')\n",
    "    plt.show()\n",
    "\n",
    "    # Brand Distribution\n",
    "    plt.figure(figsize=(12, 6))\n",
    "    sns.countplot(data=product_df, x='BRAND', order=top_5_brands)\n",
    "    plt.title('Top 5 Brand Distribution')\n",
    "    plt.show()\n",
    "plot_product_table(product_df)"
   ]
  },
  {
   "cell_type": "markdown",
   "id": "5087a3c8-596b-4128-9015-7a743e9ce7e0",
   "metadata": {},
   "source": [
    "#### Here the Age column is calcuated, and in the formula it is divided by 365.25 because though a year typically has 365 days, but there are leap years that have 366 days. To account for the slight variation in the length of a year, the value 365.25 is used. This considers the average length of a year, including leap years."
   ]
  },
  {
   "cell_type": "code",
   "execution_count": 82,
   "id": "6b6c378d-70b1-4225-8b48-030413b650c6",
   "metadata": {},
   "outputs": [],
   "source": [
    "# Calculate age\n",
    "users_df['AGE'] = (pd.Timestamp.now(tz=\"UTC\") - users_df['BIRTH_DATE']).dt.days // 365.25\n",
    "# replace 0 for null values in age column\n",
    "users_df['AGE'] = users_df['AGE'].fillna(0) \n",
    "# convert the datatype to integer\n",
    "users_df['AGE'] = users_df['AGE'].astype('int64')"
   ]
  },
  {
   "cell_type": "markdown",
   "id": "21f49d5b-9a5e-4fb2-b37f-7d62c6e9743f",
   "metadata": {},
   "source": [
    "### Creating csv files to load in sql"
   ]
  },
  {
   "cell_type": "code",
   "execution_count": 95,
   "id": "a0ce4032-225e-4016-8276-7bb2dca1c710",
   "metadata": {},
   "outputs": [],
   "source": [
    "# load the cleaned dataframes to csv files\n",
    "product_df.to_csv('Product.csv',index=False,header=True)\n",
    "users_df.to_csv('User.csv',index=False,header=True)\n",
    "transaction_df.to_csv('Transaction.csv',index=False,header=True)"
   ]
  }
 ],
 "metadata": {
  "kernelspec": {
   "display_name": "Python 3 (ipykernel)",
   "language": "python",
   "name": "python3"
  },
  "language_info": {
   "codemirror_mode": {
    "name": "ipython",
    "version": 3
   },
   "file_extension": ".py",
   "mimetype": "text/x-python",
   "name": "python",
   "nbconvert_exporter": "python",
   "pygments_lexer": "ipython3",
   "version": "3.12.7"
  }
 },
 "nbformat": 4,
 "nbformat_minor": 5
}
